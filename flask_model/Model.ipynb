{
 "cells": [
  {
   "cell_type": "code",
   "execution_count": 1,
   "id": "1e5ed60e",
   "metadata": {},
   "outputs": [],
   "source": [
    "from sklearn.datasets import load_wine\n",
    "from sklearn.linear_model import LogisticRegression\n",
    "from sklearn.model_selection import train_test_split"
   ]
  },
  {
   "cell_type": "code",
   "execution_count": 2,
   "id": "304f23d7",
   "metadata": {},
   "outputs": [],
   "source": [
    "wine_data = load_wine()"
   ]
  },
  {
   "cell_type": "code",
   "execution_count": 5,
   "id": "5b73939e",
   "metadata": {},
   "outputs": [
    {
     "data": {
      "text/plain": [
       "(178, 13)"
      ]
     },
     "execution_count": 5,
     "metadata": {},
     "output_type": "execute_result"
    }
   ],
   "source": [
    "wine_data.data.shape"
   ]
  },
  {
   "cell_type": "code",
   "execution_count": 6,
   "id": "8dded34b",
   "metadata": {},
   "outputs": [
    {
     "data": {
      "text/plain": [
       "(178,)"
      ]
     },
     "execution_count": 6,
     "metadata": {},
     "output_type": "execute_result"
    }
   ],
   "source": [
    "wine_data.target.shape"
   ]
  },
  {
   "cell_type": "code",
   "execution_count": 7,
   "id": "321e10a2",
   "metadata": {},
   "outputs": [],
   "source": [
    "X_train, X_test, y_train, y_test = train_test_split(wine_data.data, wine_data.target, test_size = 0.3, random_state = 2 )"
   ]
  },
  {
   "cell_type": "code",
   "execution_count": 8,
   "id": "b126f52f",
   "metadata": {},
   "outputs": [],
   "source": [
    "LR_model = LogisticRegression(C=0.1, max_iter=20, fit_intercept=True, n_jobs=4, solver='liblinear')"
   ]
  },
  {
   "cell_type": "code",
   "execution_count": 9,
   "id": "750e4a73",
   "metadata": {},
   "outputs": [
    {
     "name": "stderr",
     "output_type": "stream",
     "text": [
      "E:\\Spark\\spark-3.2.0-bin-hadoop3.2\\lib\\site-packages\\sklearn\\linear_model\\_logistic.py:1523: UserWarning: 'n_jobs' > 1 does not have any effect when 'solver' is set to 'liblinear'. Got 'n_jobs' = 4.\n",
      "  warnings.warn(\n"
     ]
    },
    {
     "data": {
      "text/plain": [
       "LogisticRegression(C=0.1, max_iter=20, n_jobs=4, solver='liblinear')"
      ]
     },
     "execution_count": 9,
     "metadata": {},
     "output_type": "execute_result"
    }
   ],
   "source": [
    "LR_model.fit(X_train,y_train)"
   ]
  },
  {
   "cell_type": "code",
   "execution_count": 10,
   "id": "aa7fedd8",
   "metadata": {},
   "outputs": [
    {
     "data": {
      "text/plain": [
       "array([0, 0, 2, 1, 0, 0, 1, 2, 1, 0, 1, 0, 0, 2, 2, 1, 0, 0, 0, 2, 1, 0,\n",
       "       1, 1, 0, 0, 1, 0, 0, 1, 2, 1, 2, 2, 0, 1, 2, 1, 1, 1, 2, 2, 1, 0,\n",
       "       2, 1, 1, 0, 2, 1, 1, 1, 1, 1])"
      ]
     },
     "execution_count": 10,
     "metadata": {},
     "output_type": "execute_result"
    }
   ],
   "source": [
    "LR_model.predict(X_test)"
   ]
  },
  {
   "cell_type": "code",
   "execution_count": 11,
   "id": "ab534c4b",
   "metadata": {},
   "outputs": [],
   "source": [
    "score = LR_model.score(X_test,y_test)"
   ]
  },
  {
   "cell_type": "code",
   "execution_count": 12,
   "id": "9d14202f",
   "metadata": {},
   "outputs": [
    {
     "name": "stdout",
     "output_type": "stream",
     "text": [
      "Test score is 94.44\n"
     ]
    }
   ],
   "source": [
    "print(f\"Test score is {round(score*100,2)}\")"
   ]
  },
  {
   "cell_type": "code",
   "execution_count": 13,
   "id": "abde5dfa",
   "metadata": {},
   "outputs": [
    {
     "data": {
      "text/plain": [
       "'E:\\\\DEMD\\\\Demo\\\\DEMD-MidTerm\\\\flask_model'"
      ]
     },
     "execution_count": 13,
     "metadata": {},
     "output_type": "execute_result"
    }
   ],
   "source": [
    "pwd"
   ]
  },
  {
   "cell_type": "code",
   "execution_count": 14,
   "id": "d677938f",
   "metadata": {},
   "outputs": [],
   "source": [
    "import pickle"
   ]
  },
  {
   "cell_type": "code",
   "execution_count": 19,
   "id": "89fc312c",
   "metadata": {},
   "outputs": [],
   "source": [
    "with open(\"pickle_wine_model.pkl\", \"wb\") as file :\n",
    "    pickle.dump(LR_model, file)"
   ]
  },
  {
   "cell_type": "code",
   "execution_count": 20,
   "id": "2dde33fb",
   "metadata": {},
   "outputs": [],
   "source": [
    "with open (\"pickle_wine_model.pkl\", \"rb\") as f:\n",
    "    Pickled_model_file = pickle.load(f)\n",
    "    "
   ]
  },
  {
   "cell_type": "code",
   "execution_count": 23,
   "id": "22b50b7a",
   "metadata": {},
   "outputs": [
    {
     "data": {
      "text/plain": [
       "94.44"
      ]
     },
     "execution_count": 23,
     "metadata": {},
     "output_type": "execute_result"
    }
   ],
   "source": [
    "round(Pickled_model_file.score(X_test, y_test)*100, 2)"
   ]
  },
  {
   "cell_type": "code",
   "execution_count": 24,
   "id": "0e67ebbd",
   "metadata": {},
   "outputs": [
    {
     "data": {
      "text/plain": [
       "array([0])"
      ]
     },
     "execution_count": 24,
     "metadata": {},
     "output_type": "execute_result"
    }
   ],
   "source": [
    "Pickled_model_file.predict([[2,1,2,1,2,1,2,1,2,1,2,1,1]])"
   ]
  },
  {
   "cell_type": "code",
   "execution_count": null,
   "id": "fa7dfbac",
   "metadata": {},
   "outputs": [],
   "source": []
  }
 ],
 "metadata": {
  "kernelspec": {
   "display_name": "Python 3 (ipykernel)",
   "language": "python",
   "name": "python3"
  },
  "language_info": {
   "codemirror_mode": {
    "name": "ipython",
    "version": 3
   },
   "file_extension": ".py",
   "mimetype": "text/x-python",
   "name": "python",
   "nbconvert_exporter": "python",
   "pygments_lexer": "ipython3",
   "version": "3.10.1"
  }
 },
 "nbformat": 4,
 "nbformat_minor": 5
}
